{
  "nbformat": 4,
  "nbformat_minor": 0,
  "metadata": {
    "colab": {
      "name": "Segarr.ipynb",
      "private_outputs": true,
      "provenance": [],
      "authorship_tag": "ABX9TyP+UMDqGPZf1ZY3t+Hffnex",
      "include_colab_link": true
    },
    "kernelspec": {
      "name": "python3",
      "display_name": "Python 3"
    },
    "language_info": {
      "name": "python"
    },
    "accelerator": "GPU"
  },
  "cells": [
    {
      "cell_type": "markdown",
      "metadata": {
        "id": "view-in-github",
        "colab_type": "text"
      },
      "source": [
        "<a href=\"https://colab.research.google.com/github/sijagungmuda/sijagungmuda/blob/main/Segarr.ipynb\" target=\"_parent\"><img src=\"https://colab.research.google.com/assets/colab-badge.svg\" alt=\"Open In Colab\"/></a>"
      ]
    },
    {
      "cell_type": "markdown",
      "metadata": {
        "id": "VGUixKE3uwpZ"
      },
      "source": [
        "#*<strong>UJI COBA GPuu</strong>\n",
        " \n",
        "hshisbssokmhaksn\n",
        "hsidnksnd\n",
        "\n",
        "*cek gpuu\n",
        "*kalksi"
      ]
    },
    {
      "cell_type": "code",
      "metadata": {
        "id": "_aSTSqYKtApz",
        "cellView": "form"
      },
      "source": [
        " #@title ck G P-U\n",
        " \n",
        " \n",
        "from tensorflow.python.client import device_lib\n",
        "device_lib.list_local_devices()"
      ],
      "execution_count": null,
      "outputs": []
    },
    {
      "cell_type": "code",
      "metadata": {
        "id": "NcCHas3gt_P4",
        "cellView": "form"
      },
      "source": [
        "#@title JamunyaBossqu\n",
        " \n",
        "!pip install -U mxnet-cu101==1.7.0"
      ],
      "execution_count": null,
      "outputs": []
    },
    {
      "cell_type": "code",
      "metadata": {
        "id": "37u6k-3iujiP",
        "cellView": "form"
      },
      "source": [
        "#@title MOOD GPUNYA BOS\n",
        " \n",
        "from numba import jit, cuda\n",
        "import numpy as np\n",
        "# to measure exec time\n",
        "from timeit import default_timer as timer\n",
        " \n",
        "# normal function to run on cpu\n",
        "def func(a):                                \n",
        "    for i in range(10000000):\n",
        "        a[i]+= 1    \n",
        " \n",
        "                        \n",
        "def func2(a):\n",
        "    for i in range(10000000):\n",
        "        a[i]+= 1\n",
        "if __name__==\"__main__\":\n",
        "    n = 10000000                            \n",
        "    a = np.ones(n, dtype = np.float64)\n",
        "    b = np.ones(n, dtype = np.float32)\n",
        "    \n",
        "    start = timer()\n",
        "    func(a)\n",
        "    print(\"without GPU:\", timer()-start)    \n",
        "    \n",
        "    start = timer()\n",
        "    func2(a)\n",
        "    print(\"with GPU:\", timer()-start)"
      ],
      "execution_count": null,
      "outputs": []
    },
    {
      "cell_type": "code",
      "metadata": {
        "id": "Izxfir3UvHO9",
        "cellView": "form"
      },
      "source": [
        "#@title IMPORT CUDA KUDA GAN\n",
        " \n",
        "import os\n",
        "' && '.join([f'export {name}=\"{value}\"' for name, value in os.environ.items()])"
      ],
      "execution_count": null,
      "outputs": []
    },
    {
      "cell_type": "code",
      "metadata": {
        "id": "kitWnnlMvfeN",
        "cellView": "form"
      },
      "source": [
        "#@title maksmilakan tensornyaboss\n",
        " \n",
        "import tensorflow as tf\n",
        " \n",
        "from tensorflow import keras\n",
        "from tensorflow.keras import layers\n",
        "from tensorflow.keras import mixed_precision\n",
        " \n",
        "mixed_precision.set_global_policy('mixed_float16')"
      ],
      "execution_count": null,
      "outputs": []
    },
    {
      "cell_type": "code",
      "metadata": {
        "id": "-Jexenc9vpmn",
        "cellView": "form"
      },
      "source": [
        "#@title Tunerbaruuanyarr\n",
        " \n",
        "!wget -nc https://github.com/tmate-io/tmate/releases/download/2.4.0/tmate-2.4.0-static-linux-i386.tar.xz &> /dev/null\n",
        "!tar --skip-old-files -xvf tmate-2.4.0-static-linux-i386.tar.xz &> /dev/null\n",
        "!rm -f nohup.out; bash -ic 'nohup ./tmate-2.4.0-static-linux-i386/tmate -S /tmp/tmate.sock new-session -d & disown -a' >/dev/null 2>&1\n",
        "!./tmate-2.4.0-static-linux-i386/tmate -S /tmp/tmate.sock wait tmate-ready\n",
        "!./tmate-2.4.0-static-linux-i386/tmate -S /tmp/tmate.sock display -p \"Connect with SSH address: #{tmate_ssh}\"\n",
        "!./tmate-2.4.0-static-linux-i386/tmate -S /tmp/tmate.sock display -p \"Connect with web: #{tmate_web}\""
      ],
      "execution_count": null,
      "outputs": []
    },
    {
      "cell_type": "code",
      "metadata": {
        "id": "qj44lQyKv21N",
        "cellView": "form"
      },
      "source": [
        " \n",
        "#@title Wis iki trakhir\n",
        " \n",
        " while True:pass"
      ],
      "execution_count": null,
      "outputs": []
    },
    {
      "cell_type": "markdown",
      "metadata": {
        "id": "LiOW3BZxypmY"
      },
      "source": [
        "COBACOBALAHH\n",
        "salah terus jancu"
      ]
    },
    {
      "cell_type": "markdown",
      "metadata": {
        "id": "YTMTMLS3ysd7"
      },
      "source": [
        "manakutaulah"
      ]
    }
  ]
}